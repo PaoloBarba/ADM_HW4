{
 "cells": [
  {
   "cell_type": "markdown",
   "id": "08043e8d",
   "metadata": {},
   "source": [
    "## Homework 4 - Getting to know your customers"
   ]
  },
  {
   "cell_type": "code",
   "execution_count": 1,
   "id": "b06b734c",
   "metadata": {},
   "outputs": [],
   "source": [
    "## import\n",
    "import pandas as pd\n",
    "import numpy as np\n",
    "pd.options.mode.chained_assignment = None"
   ]
  },
  {
   "cell_type": "markdown",
   "id": "5a802115",
   "metadata": {},
   "source": [
    "## 1)  Finding Similar Costumers\n",
    "Companies nowadays are implementing product suggestions to provide users with things they are likely to buy. The process often starts by finding similar behaviours among consumers; for this task, we will focus on this part in the specific.\n",
    "Here you will implement an algorithm to find the most similar match to a consumer given his bank account information. In particular, you will implement your version of the LSH algorithm that takes as input information about a consumer and finds people similar to the one in the study."
   ]
  },
  {
   "cell_type": "markdown",
   "id": "0005fc7c",
   "metadata": {},
   "source": [
    "## 1.1) Set up the data\n",
    "To start working download the banking dataset on Kaggle.\n",
    "\n",
    "For the sake of this first part, not all columns are necessary since comparing each field single handedly can be quite time-expensive. Then, carefully read the linked guide above and try to understand which features will be appropriate for this task (An heads up: some users have more than one transaction record, make sure to handle them all). Once you have finished, project a version of the dataset to work with."
   ]
  },
  {
   "cell_type": "code",
   "execution_count": 2,
   "id": "96cc7b21",
   "metadata": {},
   "outputs": [],
   "source": [
    "bt=pd.read_csv(\"C:/Users/Gabbo/Desktop/HW4/bank_transactions.csv\")\n",
    "bt=bt.fillna(0)\n",
    "#bt.dropna(inplace=True) missing values\n"
   ]
  },
  {
   "cell_type": "markdown",
   "id": "a52ab3b2",
   "metadata": {},
   "source": [
    "## 1.2) Fingerprint hashing\n",
    "Using the previously selected data with the features you found pertinent, you have to:\n",
    "\n",
    "Implement your minhash function from scratch. No ready-made hash functions are allowed. Read the class material and search the internet if you need to. For reference, it may be practical to look at the description of hash functions in the book.\n",
    "\n",
    "Process the dataset and add each record to the MinHash. The subtask's goal is to try and map each consumer to its bin; to ensure this works well, be sure you understand how MinHash works and choose a matching threshold to use. Before moving on, experiment with different thresholds, explaining your choice."
   ]
  },
  {
   "cell_type": "markdown",
   "id": "b50ce571",
   "metadata": {},
   "source": [
    "## 1.3) Locality Sensitive Hashing\n",
    "Now that you prepared your algorithm, it's query time!\n",
    "We have prepared some dummy users for you to work with.\n",
    "\n",
    "Download this csv and report the most similar users (comparing them against the dataset provided in Kaggle).\n",
    "Did your hashing method work properly, what scores have you obtained and how long did it take to run? Provide information and analysis about the results."
   ]
  },
  {
   "cell_type": "markdown",
   "id": "998405c1",
   "metadata": {},
   "source": [
    "## 2.1) Getting your data + feature engineering\n",
    "Access to the data found in this dataset (it is the same dataset from the previous question 1.1).\n",
    "\n",
    "Sometimes, the features (variables, fields) are not given in a dataset but can be created from it. The previous step is known as feature engineering. For example, the original dataset has several transactions done by the same customer. Then, we ask you to group data by the client (using CustomerId) and, based on it, create the following new features for each CustomerId:\n",
    "\n",
    "a) Number of transactions\n",
    "\n",
    "b) Number of transactions with a balance bigger than 100 USD\n",
    "\n",
    "c) Average amount of the transactions\n",
    "\n",
    "d) Average balance\n",
    "\n",
    "e) Average difference between the balance and the transaction amount for each customer (this is mainly known in the banking world as utilisation).\n",
    "\n",
    "f) Gender of the customer\n",
    "\n",
    "h) Most frequent location of the customer\n",
    "So, in the end, you should have for each CustomerID seven features.\n",
    "\n",
    "Consider at least 20 additional features that can be generated for each CustomerId. Describe each of them and why you believe they will be helpful. Moreover, add it to the previous dataset (the one with seven features). In the end, you should have for each CustomerID at least 27 features (7 recommended + 20 suggested by you).\n",
    "\n",
    "Hints for feature engineering:\n",
    "\n",
    "- Instead of only using the average, you could use other functions such as minimum, maximum, percentiles, etc.\n",
    "- Think of adding filters to your features. For instance, in \"Number of transactions with balance bigger than 100 USD”, \n",
    "  the filter was \"bigger than 100 USD\". Can you think about other filters, even including other variables?\n",
    "- Think of including the information given by the fields transaction date and time in your calculations.\n",
    "- Think about getting information from a customer’s birthday, even comparing it to other fields.\n",
    "- You could also calculate percentages in your features. Think of a plausible set of percentages worth to be calculated."
   ]
  },
  {
   "cell_type": "code",
   "execution_count": 246,
   "id": "d85b83d0",
   "metadata": {},
   "outputs": [
    {
     "data": {
      "text/html": [
       "<div>\n",
       "<style scoped>\n",
       "    .dataframe tbody tr th:only-of-type {\n",
       "        vertical-align: middle;\n",
       "    }\n",
       "\n",
       "    .dataframe tbody tr th {\n",
       "        vertical-align: top;\n",
       "    }\n",
       "\n",
       "    .dataframe thead th {\n",
       "        text-align: right;\n",
       "    }\n",
       "</style>\n",
       "<table border=\"1\" class=\"dataframe\">\n",
       "  <thead>\n",
       "    <tr style=\"text-align: right;\">\n",
       "      <th></th>\n",
       "      <th>TransactionID</th>\n",
       "    </tr>\n",
       "    <tr>\n",
       "      <th>CustomerID</th>\n",
       "      <th></th>\n",
       "    </tr>\n",
       "  </thead>\n",
       "  <tbody>\n",
       "    <tr>\n",
       "      <th>C5533885</th>\n",
       "      <td>6</td>\n",
       "    </tr>\n",
       "    <tr>\n",
       "      <th>C6222360</th>\n",
       "      <td>6</td>\n",
       "    </tr>\n",
       "    <tr>\n",
       "      <th>C4327447</th>\n",
       "      <td>6</td>\n",
       "    </tr>\n",
       "    <tr>\n",
       "      <th>C4021562</th>\n",
       "      <td>6</td>\n",
       "    </tr>\n",
       "    <tr>\n",
       "      <th>C5418253</th>\n",
       "      <td>6</td>\n",
       "    </tr>\n",
       "    <tr>\n",
       "      <th>...</th>\n",
       "      <td>...</td>\n",
       "    </tr>\n",
       "    <tr>\n",
       "      <th>C4487445</th>\n",
       "      <td>1</td>\n",
       "    </tr>\n",
       "    <tr>\n",
       "      <th>C4487462</th>\n",
       "      <td>1</td>\n",
       "    </tr>\n",
       "    <tr>\n",
       "      <th>C4487472</th>\n",
       "      <td>1</td>\n",
       "    </tr>\n",
       "    <tr>\n",
       "      <th>C4487548</th>\n",
       "      <td>1</td>\n",
       "    </tr>\n",
       "    <tr>\n",
       "      <th>C9099956</th>\n",
       "      <td>1</td>\n",
       "    </tr>\n",
       "  </tbody>\n",
       "</table>\n",
       "<p>884265 rows × 1 columns</p>\n",
       "</div>"
      ],
      "text/plain": [
       "            TransactionID\n",
       "CustomerID               \n",
       "C5533885                6\n",
       "C6222360                6\n",
       "C4327447                6\n",
       "C4021562                6\n",
       "C5418253                6\n",
       "...                   ...\n",
       "C4487445                1\n",
       "C4487462                1\n",
       "C4487472                1\n",
       "C4487548                1\n",
       "C9099956                1\n",
       "\n",
       "[884265 rows x 1 columns]"
      ]
     },
     "execution_count": 246,
     "metadata": {},
     "output_type": "execute_result"
    }
   ],
   "source": [
    "bt=pd.read_csv(\"C:/Users/Gabbo/Desktop/HW4/bank_transactions.csv\")\n",
    "##num transazioni per cliente\n",
    "one = bt[[\"TransactionID\",\"CustomerID\"]].groupby(\"CustomerID\").count().sort_values(by=\"TransactionID\",ascending=False)\n",
    "one"
   ]
  },
  {
   "cell_type": "code",
   "execution_count": 28,
   "id": "8dd7d94e",
   "metadata": {
    "scrolled": true
   },
   "outputs": [
    {
     "ename": "TypeError",
     "evalue": "sort_values() missing 1 required positional argument: 'by'",
     "output_type": "error",
     "traceback": [
      "\u001b[1;31m---------------------------------------------------------------------------\u001b[0m",
      "\u001b[1;31mTypeError\u001b[0m                                 Traceback (most recent call last)",
      "\u001b[1;32m~\\AppData\\Local\\Temp\\ipykernel_8844\\589403558.py\u001b[0m in \u001b[0;36m<module>\u001b[1;34m\u001b[0m\n\u001b[0;32m      3\u001b[0m \u001b[1;31m#a.groupby(\"CustomerID\").agg(maggioridi100=(\"CustAccountBalance\",np.count_nonzero(>100)))\u001b[0m\u001b[1;33m\u001b[0m\u001b[1;33m\u001b[0m\u001b[0m\n\u001b[0;32m      4\u001b[0m \u001b[0mpiudi100\u001b[0m \u001b[1;33m=\u001b[0m \u001b[0ma\u001b[0m\u001b[1;33m.\u001b[0m\u001b[0mgroupby\u001b[0m\u001b[1;33m(\u001b[0m\u001b[1;34m\"CustomerID\"\u001b[0m\u001b[1;33m)\u001b[0m\u001b[1;33m[\u001b[0m\u001b[1;34m\"CustAccountBalance\"\u001b[0m\u001b[1;33m]\u001b[0m\u001b[1;33m.\u001b[0m\u001b[0mapply\u001b[0m\u001b[1;33m(\u001b[0m\u001b[1;32mlambda\u001b[0m \u001b[0mx\u001b[0m\u001b[1;33m:\u001b[0m \u001b[1;33m(\u001b[0m\u001b[0mx\u001b[0m\u001b[1;33m>\u001b[0m\u001b[1;36m100\u001b[0m\u001b[1;33m)\u001b[0m\u001b[1;33m.\u001b[0m\u001b[0msum\u001b[0m\u001b[1;33m(\u001b[0m\u001b[1;33m)\u001b[0m\u001b[1;33m)\u001b[0m\u001b[1;33m.\u001b[0m\u001b[0mreset_index\u001b[0m\u001b[1;33m(\u001b[0m\u001b[0mname\u001b[0m\u001b[1;33m=\u001b[0m\u001b[1;34m'count'\u001b[0m\u001b[1;33m)\u001b[0m\u001b[1;33m\u001b[0m\u001b[1;33m\u001b[0m\u001b[0m\n\u001b[1;32m----> 5\u001b[1;33m \u001b[0mpiudi100\u001b[0m\u001b[1;33m.\u001b[0m\u001b[0msort_values\u001b[0m\u001b[1;33m(\u001b[0m\u001b[0mascending\u001b[0m\u001b[1;33m=\u001b[0m\u001b[1;32mFalse\u001b[0m\u001b[1;33m)\u001b[0m\u001b[1;33m\u001b[0m\u001b[1;33m\u001b[0m\u001b[0m\n\u001b[0m",
      "\u001b[1;32m~\\anaconda3\\lib\\site-packages\\pandas\\util\\_decorators.py\u001b[0m in \u001b[0;36mwrapper\u001b[1;34m(*args, **kwargs)\u001b[0m\n\u001b[0;32m    309\u001b[0m                     \u001b[0mstacklevel\u001b[0m\u001b[1;33m=\u001b[0m\u001b[0mstacklevel\u001b[0m\u001b[1;33m,\u001b[0m\u001b[1;33m\u001b[0m\u001b[1;33m\u001b[0m\u001b[0m\n\u001b[0;32m    310\u001b[0m                 )\n\u001b[1;32m--> 311\u001b[1;33m             \u001b[1;32mreturn\u001b[0m \u001b[0mfunc\u001b[0m\u001b[1;33m(\u001b[0m\u001b[1;33m*\u001b[0m\u001b[0margs\u001b[0m\u001b[1;33m,\u001b[0m \u001b[1;33m**\u001b[0m\u001b[0mkwargs\u001b[0m\u001b[1;33m)\u001b[0m\u001b[1;33m\u001b[0m\u001b[1;33m\u001b[0m\u001b[0m\n\u001b[0m\u001b[0;32m    312\u001b[0m \u001b[1;33m\u001b[0m\u001b[0m\n\u001b[0;32m    313\u001b[0m         \u001b[1;32mreturn\u001b[0m \u001b[0mwrapper\u001b[0m\u001b[1;33m\u001b[0m\u001b[1;33m\u001b[0m\u001b[0m\n",
      "\u001b[1;31mTypeError\u001b[0m: sort_values() missing 1 required positional argument: 'by'"
     ]
    }
   ],
   "source": [
    "#num transazioni con piu di 100 di balance\n",
    "a = bt[[\"CustomerID\",\"CustAccountBalance\",\"TransactionID\"]]\n",
    "#a.groupby(\"CustomerID\").agg(maggioridi100=(\"CustAccountBalance\",np.count_nonzero(>100)))\n",
    "piudi100 = a.groupby(\"CustomerID\")[\"CustAccountBalance\"].apply(lambda x: (x>100).sum()).reset_index(name='count')\n",
    "#piudi100.sort_values(ascending=False)"
   ]
  },
  {
   "cell_type": "code",
   "execution_count": 30,
   "id": "996d9548",
   "metadata": {},
   "outputs": [
    {
     "data": {
      "text/html": [
       "<div>\n",
       "<style scoped>\n",
       "    .dataframe tbody tr th:only-of-type {\n",
       "        vertical-align: middle;\n",
       "    }\n",
       "\n",
       "    .dataframe tbody tr th {\n",
       "        vertical-align: top;\n",
       "    }\n",
       "\n",
       "    .dataframe thead th {\n",
       "        text-align: right;\n",
       "    }\n",
       "</style>\n",
       "<table border=\"1\" class=\"dataframe\">\n",
       "  <thead>\n",
       "    <tr style=\"text-align: right;\">\n",
       "      <th></th>\n",
       "      <th>CustomerID</th>\n",
       "      <th>count</th>\n",
       "    </tr>\n",
       "  </thead>\n",
       "  <tbody>\n",
       "    <tr>\n",
       "      <th>570274</th>\n",
       "      <td>C6222360</td>\n",
       "      <td>6</td>\n",
       "    </tr>\n",
       "    <tr>\n",
       "      <th>330645</th>\n",
       "      <td>C4021562</td>\n",
       "      <td>6</td>\n",
       "    </tr>\n",
       "    <tr>\n",
       "      <th>244659</th>\n",
       "      <td>C3226689</td>\n",
       "      <td>6</td>\n",
       "    </tr>\n",
       "    <tr>\n",
       "      <th>716854</th>\n",
       "      <td>C7537344</td>\n",
       "      <td>6</td>\n",
       "    </tr>\n",
       "    <tr>\n",
       "      <th>628692</th>\n",
       "      <td>C6735477</td>\n",
       "      <td>6</td>\n",
       "    </tr>\n",
       "    <tr>\n",
       "      <th>...</th>\n",
       "      <td>...</td>\n",
       "      <td>...</td>\n",
       "    </tr>\n",
       "    <tr>\n",
       "      <th>204561</th>\n",
       "      <td>C2840811</td>\n",
       "      <td>0</td>\n",
       "    </tr>\n",
       "    <tr>\n",
       "      <th>100234</th>\n",
       "      <td>C1917343</td>\n",
       "      <td>0</td>\n",
       "    </tr>\n",
       "    <tr>\n",
       "      <th>410482</th>\n",
       "      <td>C4733759</td>\n",
       "      <td>0</td>\n",
       "    </tr>\n",
       "    <tr>\n",
       "      <th>789272</th>\n",
       "      <td>C8223249</td>\n",
       "      <td>0</td>\n",
       "    </tr>\n",
       "    <tr>\n",
       "      <th>302008</th>\n",
       "      <td>C3736686</td>\n",
       "      <td>0</td>\n",
       "    </tr>\n",
       "  </tbody>\n",
       "</table>\n",
       "<p>884265 rows × 2 columns</p>\n",
       "</div>"
      ],
      "text/plain": [
       "       CustomerID  count\n",
       "570274   C6222360      6\n",
       "330645   C4021562      6\n",
       "244659   C3226689      6\n",
       "716854   C7537344      6\n",
       "628692   C6735477      6\n",
       "...           ...    ...\n",
       "204561   C2840811      0\n",
       "100234   C1917343      0\n",
       "410482   C4733759      0\n",
       "789272   C8223249      0\n",
       "302008   C3736686      0\n",
       "\n",
       "[884265 rows x 2 columns]"
      ]
     },
     "execution_count": 30,
     "metadata": {},
     "output_type": "execute_result"
    }
   ],
   "source": [
    "piudi100.sort_values(by=\"count\",ascending=False)"
   ]
  },
  {
   "cell_type": "code",
   "execution_count": 252,
   "id": "09ef7d21",
   "metadata": {
    "scrolled": true
   },
   "outputs": [],
   "source": [
    "#Average amount of the transactions\n",
    "three= bt[[\"CustomerID\",\"TransactionID\",\"TransactionAmount (INR)\"]]\n",
    "\n",
    "three2= three.groupby(\"CustomerID\").agg(Average_Amount=(\"TransactionAmount (INR)\",np.mean))"
   ]
  },
  {
   "cell_type": "code",
   "execution_count": 251,
   "id": "9a8c2fd8",
   "metadata": {
    "scrolled": true
   },
   "outputs": [],
   "source": [
    "four = bt[[\"CustomerID\",\"TransactionID\",\"CustAccountBalance\"]]\n",
    "four2 = four.groupby(\"CustomerID\").agg(Average_Balance=(\"CustAccountBalance\",np.mean))"
   ]
  },
  {
   "cell_type": "code",
   "execution_count": 177,
   "id": "93f39805",
   "metadata": {
    "scrolled": true
   },
   "outputs": [
    {
     "data": {
      "text/html": [
       "<div>\n",
       "<style scoped>\n",
       "    .dataframe tbody tr th:only-of-type {\n",
       "        vertical-align: middle;\n",
       "    }\n",
       "\n",
       "    .dataframe tbody tr th {\n",
       "        vertical-align: top;\n",
       "    }\n",
       "\n",
       "    .dataframe thead th {\n",
       "        text-align: right;\n",
       "    }\n",
       "</style>\n",
       "<table border=\"1\" class=\"dataframe\">\n",
       "  <thead>\n",
       "    <tr style=\"text-align: right;\">\n",
       "      <th></th>\n",
       "      <th>Utilisation</th>\n",
       "    </tr>\n",
       "    <tr>\n",
       "      <th>CustomerID</th>\n",
       "      <th></th>\n",
       "    </tr>\n",
       "  </thead>\n",
       "  <tbody>\n",
       "    <tr>\n",
       "      <th>C1010011</th>\n",
       "      <td>73787.635</td>\n",
       "    </tr>\n",
       "    <tr>\n",
       "      <th>C1010012</th>\n",
       "      <td>22705.490</td>\n",
       "    </tr>\n",
       "    <tr>\n",
       "      <th>C1010014</th>\n",
       "      <td>99385.450</td>\n",
       "    </tr>\n",
       "    <tr>\n",
       "      <th>C1010018</th>\n",
       "      <td>466.180</td>\n",
       "    </tr>\n",
       "    <tr>\n",
       "      <th>C1010024</th>\n",
       "      <td>82058.650</td>\n",
       "    </tr>\n",
       "    <tr>\n",
       "      <th>...</th>\n",
       "      <td>...</td>\n",
       "    </tr>\n",
       "    <tr>\n",
       "      <th>C9099836</th>\n",
       "      <td>132376.230</td>\n",
       "    </tr>\n",
       "    <tr>\n",
       "      <th>C9099877</th>\n",
       "      <td>95841.460</td>\n",
       "    </tr>\n",
       "    <tr>\n",
       "      <th>C9099919</th>\n",
       "      <td>5433.750</td>\n",
       "    </tr>\n",
       "    <tr>\n",
       "      <th>C9099941</th>\n",
       "      <td>35245.920</td>\n",
       "    </tr>\n",
       "    <tr>\n",
       "      <th>C9099956</th>\n",
       "      <td>6113.930</td>\n",
       "    </tr>\n",
       "  </tbody>\n",
       "</table>\n",
       "<p>884265 rows × 1 columns</p>\n",
       "</div>"
      ],
      "text/plain": [
       "            Utilisation\n",
       "CustomerID             \n",
       "C1010011      73787.635\n",
       "C1010012      22705.490\n",
       "C1010014      99385.450\n",
       "C1010018        466.180\n",
       "C1010024      82058.650\n",
       "...                 ...\n",
       "C9099836     132376.230\n",
       "C9099877      95841.460\n",
       "C9099919       5433.750\n",
       "C9099941      35245.920\n",
       "C9099956       6113.930\n",
       "\n",
       "[884265 rows x 1 columns]"
      ]
     },
     "execution_count": 177,
     "metadata": {},
     "output_type": "execute_result"
    }
   ],
   "source": [
    "# utilisation for each CID\n",
    "five = bt[[\"CustomerID\",\"CustAccountBalance\",\"TransactionAmount (INR)\"]]\n",
    "five[\"Utilisation\"] = five[\"CustAccountBalance\"]-five[\"TransactionAmount (INR)\"]\n",
    "five.groupby(\"CustomerID\").agg(Utilisation=(\"Utilisation\",np.mean))"
   ]
  },
  {
   "cell_type": "code",
   "execution_count": 186,
   "id": "ab3d22d6",
   "metadata": {},
   "outputs": [
    {
     "data": {
      "text/plain": [
       "<pandas.core.groupby.generic.DataFrameGroupBy object at 0x000001DB076AA370>"
      ]
     },
     "execution_count": 186,
     "metadata": {},
     "output_type": "execute_result"
    }
   ],
   "source": [
    "#Gender of the customer\n",
    "six=bt[[\"CustomerID\",\"CustGender\"]].groupby(\"CustomerID\")"
   ]
  },
  {
   "cell_type": "code",
   "execution_count": 199,
   "id": "752242f0",
   "metadata": {
    "scrolled": true
   },
   "outputs": [
    {
     "data": {
      "text/html": [
       "<div>\n",
       "<style scoped>\n",
       "    .dataframe tbody tr th:only-of-type {\n",
       "        vertical-align: middle;\n",
       "    }\n",
       "\n",
       "    .dataframe tbody tr th {\n",
       "        vertical-align: top;\n",
       "    }\n",
       "\n",
       "    .dataframe thead th {\n",
       "        text-align: right;\n",
       "    }\n",
       "</style>\n",
       "<table border=\"1\" class=\"dataframe\">\n",
       "  <thead>\n",
       "    <tr style=\"text-align: right;\">\n",
       "      <th></th>\n",
       "      <th>CustLocation</th>\n",
       "    </tr>\n",
       "    <tr>\n",
       "      <th>CustomerID</th>\n",
       "      <th></th>\n",
       "    </tr>\n",
       "  </thead>\n",
       "  <tbody>\n",
       "    <tr>\n",
       "      <th>C1010011</th>\n",
       "      <td>[NEW DELHI, NOIDA]</td>\n",
       "    </tr>\n",
       "    <tr>\n",
       "      <th>C1010012</th>\n",
       "      <td>MUMBAI</td>\n",
       "    </tr>\n",
       "    <tr>\n",
       "      <th>C1010014</th>\n",
       "      <td>MUMBAI</td>\n",
       "    </tr>\n",
       "    <tr>\n",
       "      <th>C1010018</th>\n",
       "      <td>CHAMPARAN</td>\n",
       "    </tr>\n",
       "    <tr>\n",
       "      <th>C1010024</th>\n",
       "      <td>KOLKATA</td>\n",
       "    </tr>\n",
       "    <tr>\n",
       "      <th>...</th>\n",
       "      <td>...</td>\n",
       "    </tr>\n",
       "    <tr>\n",
       "      <th>C9099836</th>\n",
       "      <td>BHIWANDI</td>\n",
       "    </tr>\n",
       "    <tr>\n",
       "      <th>C9099877</th>\n",
       "      <td>BANGALORE</td>\n",
       "    </tr>\n",
       "    <tr>\n",
       "      <th>C9099919</th>\n",
       "      <td>GUNTUR</td>\n",
       "    </tr>\n",
       "    <tr>\n",
       "      <th>C9099941</th>\n",
       "      <td>CHENNAI</td>\n",
       "    </tr>\n",
       "    <tr>\n",
       "      <th>C9099956</th>\n",
       "      <td>MUSSOORIE</td>\n",
       "    </tr>\n",
       "  </tbody>\n",
       "</table>\n",
       "<p>884265 rows × 1 columns</p>\n",
       "</div>"
      ],
      "text/plain": [
       "                  CustLocation\n",
       "CustomerID                    \n",
       "C1010011    [NEW DELHI, NOIDA]\n",
       "C1010012                MUMBAI\n",
       "C1010014                MUMBAI\n",
       "C1010018             CHAMPARAN\n",
       "C1010024               KOLKATA\n",
       "...                        ...\n",
       "C9099836              BHIWANDI\n",
       "C9099877             BANGALORE\n",
       "C9099919                GUNTUR\n",
       "C9099941               CHENNAI\n",
       "C9099956             MUSSOORIE\n",
       "\n",
       "[884265 rows x 1 columns]"
      ]
     },
     "execution_count": 199,
     "metadata": {},
     "output_type": "execute_result"
    }
   ],
   "source": [
    "#Most frequent location of the customer\n",
    "seven = bt[[\"CustomerID\",\"CustLocation\"]].groupby(\"CustomerID\").agg(pd.Series.mode)\n",
    "seven"
   ]
  },
  {
   "cell_type": "code",
   "execution_count": 249,
   "id": "73336257",
   "metadata": {},
   "outputs": [
    {
     "ename": "NameError",
     "evalue": "name 'four' is not defined",
     "output_type": "error",
     "traceback": [
      "\u001b[1;31m---------------------------------------------------------------------------\u001b[0m",
      "\u001b[1;31mNameError\u001b[0m                                 Traceback (most recent call last)",
      "\u001b[1;32m~\\AppData\\Local\\Temp\\ipykernel_12104\\2372777126.py\u001b[0m in \u001b[0;36m<module>\u001b[1;34m\u001b[0m\n\u001b[0;32m      1\u001b[0m \u001b[1;31m#merge delle 7 features:\u001b[0m\u001b[1;33m\u001b[0m\u001b[1;33m\u001b[0m\u001b[0m\n\u001b[0;32m      2\u001b[0m \u001b[0muno\u001b[0m\u001b[1;33m=\u001b[0m\u001b[0mone\u001b[0m\u001b[1;33m.\u001b[0m\u001b[0mmerge\u001b[0m\u001b[1;33m(\u001b[0m\u001b[0mthree\u001b[0m\u001b[1;33m,\u001b[0m\u001b[0mon\u001b[0m\u001b[1;33m=\u001b[0m\u001b[1;34m\"CustomerID\"\u001b[0m\u001b[1;33m)\u001b[0m\u001b[1;33m\u001b[0m\u001b[1;33m\u001b[0m\u001b[0m\n\u001b[1;32m----> 3\u001b[1;33m \u001b[0mdue\u001b[0m\u001b[1;33m=\u001b[0m\u001b[0muno\u001b[0m\u001b[1;33m.\u001b[0m\u001b[0mmerge\u001b[0m\u001b[1;33m(\u001b[0m\u001b[0mfour\u001b[0m\u001b[1;33m,\u001b[0m\u001b[0mon\u001b[0m\u001b[1;33m=\u001b[0m\u001b[1;34m\"CustomerID\"\u001b[0m\u001b[1;33m)\u001b[0m\u001b[1;33m\u001b[0m\u001b[1;33m\u001b[0m\u001b[0m\n\u001b[0m",
      "\u001b[1;31mNameError\u001b[0m: name 'four' is not defined"
     ]
    }
   ],
   "source": [
    "#merge delle 7 features:\n",
    "uno=one.merge(three,on=\"CustomerID\")\n",
    "due=uno.merge(four,on=\"CustomerID\")"
   ]
  },
  {
   "cell_type": "code",
   "execution_count": null,
   "id": "8ff1e799",
   "metadata": {},
   "outputs": [],
   "source": []
  },
  {
   "cell_type": "code",
   "execution_count": null,
   "id": "d943ad7e",
   "metadata": {},
   "outputs": [],
   "source": []
  },
  {
   "cell_type": "code",
   "execution_count": null,
   "id": "f15a9dce",
   "metadata": {},
   "outputs": [],
   "source": []
  },
  {
   "cell_type": "code",
   "execution_count": null,
   "id": "a11e1884",
   "metadata": {},
   "outputs": [],
   "source": []
  },
  {
   "cell_type": "code",
   "execution_count": null,
   "id": "9e5af66b",
   "metadata": {},
   "outputs": [],
   "source": []
  },
  {
   "cell_type": "markdown",
   "id": "7580a079",
   "metadata": {},
   "source": [
    "## 2.2) Choose your features (variables)!\n",
    "As you may notice, you have plenty of features to work with now. So, you need to find a way to reduce the dimensionality (reduce the number of variables to work with). You can follow the subsequent directions to achieve it:\n",
    "\n",
    "To normalise or not to normalise? That's the question. Sometimes it is worth normalising (scaling) the features. Explain if it is a good idea to perform any normalisation method. If you think the normalisation should be used, apply it to your data (look at the available normalisation functions in the scikit-learn library).\n",
    "\n",
    "Select one method for dimensionality reduction and apply it to your data. Some suggestions are Principal Component Analysis, Multiple Correspondence Analysis, Singular Value Decomposition, Factor Analysis for Mixed Data, Two-Steps clustering. Make sure that the method you choose applies to the features you have or modify your data to be able to use it. Explain why you chose that method and the limitations it may have.\n",
    "\n",
    "Apply the selected method(s) to your data. Ensure the chosen method retains > 70% of the total variance."
   ]
  },
  {
   "cell_type": "markdown",
   "id": "68864cd4",
   "metadata": {},
   "source": [
    "## 2.3) Clustering!\n",
    "Implement the K-means clustering algorithm (not ++: random initialization). We ask you to write the algorithm from scratch following what you learned in class. !! We also ask you to use MapReduce in your K-means algorithm.\n",
    "\n",
    "Find an optimal number of clusters. Use at least two different methods. If your algorithms provide diverse optimal K's, select one of them and explain why you chose it.\n",
    "\n",
    "Run the algorithm on the data.\n",
    "\n",
    "Then, use the already implemented version of K-means++ (from the scikit-learn library). Explain the differences (if there are any) in the results."
   ]
  },
  {
   "cell_type": "markdown",
   "id": "88b97841",
   "metadata": {},
   "source": [
    "## 2.4) Analysing your results!\n",
    "You are often encouraged to explain the main characteristics that your clusters have. This is called the Characterizing Clusters step. Thus, follow the next steps to do it:\n",
    "\n",
    "Select 2-3 variables you think are relevant to identify the cluster of the customer. For example, CustGender, Number of transactions, etc.\n",
    "\n",
    "Most of your selected variables will be numerical (continuous or discrete), then categorise them into four categories.\n",
    "\n",
    "With the selected variables, perform pivot tables. On the horizontal axis, you will have the clusters, and on the vertical axis, you will have the categories of each variable. Notice that you have to do one pivot table per variable.\n",
    "\n",
    "Calculate the percentage by column for each pivot table. The sum of each row (cluster) must be 100. The sample example for clustering with K = 4 and Gender variable:\n",
    "\n",
    "Interpret the results for each pivot table.\n",
    "\n",
    "Use any known metrics to estimate clustering algorithm performance (how good are the clusters you found?).\n",
    "\n"
   ]
  }
 ],
 "metadata": {
  "kernelspec": {
   "display_name": "Python 3 (ipykernel)",
   "language": "python",
   "name": "python3"
  },
  "language_info": {
   "codemirror_mode": {
    "name": "ipython",
    "version": 3
   },
   "file_extension": ".py",
   "mimetype": "text/x-python",
   "name": "python",
   "nbconvert_exporter": "python",
   "pygments_lexer": "ipython3",
   "version": "3.9.13"
  }
 },
 "nbformat": 4,
 "nbformat_minor": 5
}
