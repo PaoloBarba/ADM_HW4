{
 "cells": [
  {
   "cell_type": "markdown",
   "id": "18f4c46a",
   "metadata": {},
   "source": [
    "# Introduction\n",
    "\n",
    "This notebook contains the work for Homework 4  of Algorithmic Methods for Data Mining 2022.\n",
    "\n",
    "## Group Members\n",
    "\n",
    "\n",
    "* Barba Paolo\n",
    "* Girolami Mattia\n",
    "* Pelliccione Gabriele\n"
   ]
  },
  {
   "cell_type": "markdown",
   "id": "3f0bad29",
   "metadata": {},
   "source": [
    "tumadre"
   ]
  }
 ],
 "metadata": {
  "kernelspec": {
   "display_name": "Python 3 (ipykernel)",
   "language": "python",
   "name": "python3"
  },
  "language_info": {
   "codemirror_mode": {
    "name": "ipython",
    "version": 3
   },
   "file_extension": ".py",
   "mimetype": "text/x-python",
   "name": "python",
   "nbconvert_exporter": "python",
   "pygments_lexer": "ipython3",
   "version": "3.9.13"
  }
 },
 "nbformat": 4,
 "nbformat_minor": 5
}
