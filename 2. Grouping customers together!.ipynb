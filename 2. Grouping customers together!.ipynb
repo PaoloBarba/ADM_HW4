{
 "cells": [
  {
   "cell_type": "markdown",
   "id": "5ee0c8c3",
   "metadata": {},
   "source": [
    "### 2.1 Getting your data + feature engineering"
   ]
  },
  {
   "cell_type": "code",
   "execution_count": 1,
   "id": "56e8419d",
   "metadata": {},
   "outputs": [],
   "source": [
    "import pandas as pd\n",
    "import numpy as np\n",
    "import statistics\n"
   ]
  },
  {
   "cell_type": "code",
   "execution_count": 2,
   "id": "7cc7d5dd",
   "metadata": {},
   "outputs": [],
   "source": [
    "bt=pd.read_csv(\"bank_transactions.csv\")      # Import the dataset\n",
    "bt.dropna(inplace=True)                      # Dropping missing values "
   ]
  },
  {
   "cell_type": "code",
   "execution_count": 3,
   "id": "77dcbd8c",
   "metadata": {},
   "outputs": [],
   "source": [
    "# convert to timedate\n",
    "bt.CustomerDOB = pd.to_datetime(bt.CustomerDOB)\n",
    "bt.TransactionDate = pd.to_datetime(bt.TransactionDate)"
   ]
  },
  {
   "cell_type": "code",
   "execution_count": 4,
   "id": "d775f293",
   "metadata": {},
   "outputs": [],
   "source": [
    "def zeros(x):\n",
    "    l = len(x)\n",
    "    if l != 6:\n",
    "        x = '0' * (6-l) + x\n",
    "    return x"
   ]
  },
  {
   "cell_type": "code",
   "execution_count": 5,
   "id": "a9dab5a6",
   "metadata": {},
   "outputs": [],
   "source": [
    "bt.TransactionTime = list(map(str,bt.TransactionTime))\n",
    "bt.TransactionTime = list(map(zeros,bt.TransactionTime))\n",
    "bt.TransactionTime = bt.TransactionTime.apply(lambda x: f'{x[:2]}:{x[2:4]}:{x[4:]}')\n",
    "bt.TransactionTime = pd.to_datetime(bt.TransactionTime, format='%H:%M:%S')"
   ]
  },
  {
   "cell_type": "code",
   "execution_count": 6,
   "id": "39a21dbc",
   "metadata": {},
   "outputs": [],
   "source": [
    "bt.loc[bt.CustomerDOB.dt.year > 2000, 'CustomerDOB'] = bt.loc[bt.CustomerDOB.dt.year > 2000, 'CustomerDOB'] - pd.DateOffset(years = 100)\n",
    "bt.drop(bt[bt.CustomerDOB.dt.year == 1800].index, axis=0, inplace=True)"
   ]
  },
  {
   "cell_type": "code",
   "execution_count": 7,
   "id": "d864b803",
   "metadata": {},
   "outputs": [],
   "source": [
    "#calculating customer age\n",
    "bt['CustomerAge'] = (( pd.to_datetime('today') - bt.CustomerDOB ) / np.timedelta64(1, 'Y')).round(0)\n",
    "bt['CustomerAge'] = bt['CustomerAge'].astype(int)"
   ]
  },
  {
   "cell_type": "code",
   "execution_count": 8,
   "id": "cdc626b2",
   "metadata": {},
   "outputs": [],
   "source": [
    "bt['TransactionAmount (INR)'] = bt['TransactionAmount (INR)'].astype(int)\n",
    "bt['Utilisation'] = bt['CustAccountBalance'] - bt['TransactionAmount (INR)']"
   ]
  },
  {
   "cell_type": "code",
   "execution_count": 9,
   "id": "69b4f566",
   "metadata": {},
   "outputs": [],
   "source": [
    "#to save\n",
    "bt.to_pickle(\"bank.pkl\")"
   ]
  },
  {
   "cell_type": "code",
   "execution_count": 11,
   "id": "a11a8f74",
   "metadata": {},
   "outputs": [],
   "source": [
    "#to load\n",
    "bt = pd.read_pickle(\"bank.pkl\")\n"
   ]
  },
  {
   "cell_type": "markdown",
   "id": "12d487c8",
   "metadata": {},
   "source": [
    "### 2.1 Getting your data + feature engineering"
   ]
  },
  {
   "cell_type": "code",
   "execution_count": 13,
   "id": "61c0d92a",
   "metadata": {},
   "outputs": [],
   "source": [
    "#Define an empty dataframe\n",
    "Features = pd.DataFrame(data=None, index=None, columns=None, dtype=None, copy=False)\n",
    "\n",
    "# Number of transaction\n",
    "Features[\"Num_of_Transaction\"] = bt[[\"CustomerID\",\"TransactionID\"]].groupby(\"CustomerID\").count()\n",
    "\n",
    "#Transaction with balance > 100:\n",
    "Features[\"Balance>100_USD\"] = bt[[\"CustomerID\",\"CustAccountBalance\"]].groupby(\"CustomerID\")[\"CustAccountBalance\"].apply(lambda x: (x>100).sum())\n",
    "\n",
    "\n",
    "#Average Amount of the transactions:\n",
    "Features[\"Average_Amount\"] = bt[[\"CustomerID\",\"TransactionAmount (INR)\"]].groupby(\"CustomerID\").agg(Average_Amount=(\"TransactionAmount (INR)\",np.mean))\n",
    "\n",
    "\n",
    "#Average Balance:\n",
    "Features[\"Average_Balance\"] = bt[[\"CustomerID\",\"CustAccountBalance\"]].groupby(\"CustomerID\").agg(Average_Balance=(\"CustAccountBalance\",np.mean))\n",
    "\n",
    "\n",
    "#Utilisation = Average difference between the balance and the transaction amount:\n",
    "pd.options.mode.chained_assignment = None      #Avoid the red banner\n",
    "bt[\"Utilisation\"] = bt[\"CustAccountBalance\"]-bt[\"TransactionAmount (INR)\"]  #create \"Utilisation\" column\n",
    "Features[\"Utilisation\"] = bt[[\"CustomerID\",\"Utilisation\"]].groupby(\"CustomerID\").agg(Utilisation=(\"Utilisation\",np.mean))  #calculate the mean  \n",
    "\n",
    "#Gender of the customer:  \n",
    "Features[\"gender\"]=bt[[\"CustomerID\",\"CustGender\"]].groupby(\"CustomerID\").last()\n",
    "\n",
    "#Most frequent location of the customer\n",
    "Features[\"Most_Frequent_Location\"] = bt[[\"CustomerID\",\"CustLocation\"]].groupby(\"CustomerID\").agg(CustLocation =(\"CustLocation\",statistics.mode))\n"
   ]
  },
  {
   "cell_type": "code",
   "execution_count": 37,
   "id": "19134ca2",
   "metadata": {
    "scrolled": true
   },
   "outputs": [
    {
     "data": {
      "text/html": [
       "<div>\n",
       "<style scoped>\n",
       "    .dataframe tbody tr th:only-of-type {\n",
       "        vertical-align: middle;\n",
       "    }\n",
       "\n",
       "    .dataframe tbody tr th {\n",
       "        vertical-align: top;\n",
       "    }\n",
       "\n",
       "    .dataframe thead th {\n",
       "        text-align: right;\n",
       "    }\n",
       "</style>\n",
       "<table border=\"1\" class=\"dataframe\">\n",
       "  <thead>\n",
       "    <tr style=\"text-align: right;\">\n",
       "      <th></th>\n",
       "      <th>Num_of_Transaction</th>\n",
       "      <th>Balance&gt;100_USD</th>\n",
       "      <th>Average_Amount</th>\n",
       "      <th>Average_Balance</th>\n",
       "      <th>Utilisation</th>\n",
       "      <th>gender</th>\n",
       "      <th>Most_Frequent_Location</th>\n",
       "    </tr>\n",
       "    <tr>\n",
       "      <th>CustomerID</th>\n",
       "      <th></th>\n",
       "      <th></th>\n",
       "      <th></th>\n",
       "      <th></th>\n",
       "      <th></th>\n",
       "      <th></th>\n",
       "      <th></th>\n",
       "    </tr>\n",
       "  </thead>\n",
       "  <tbody>\n",
       "    <tr>\n",
       "      <th>C1010011</th>\n",
       "      <td>2</td>\n",
       "      <td>2</td>\n",
       "      <td>2553.0</td>\n",
       "      <td>76340.635</td>\n",
       "      <td>73787.635</td>\n",
       "      <td>M</td>\n",
       "      <td>NOIDA</td>\n",
       "    </tr>\n",
       "    <tr>\n",
       "      <th>C1010012</th>\n",
       "      <td>1</td>\n",
       "      <td>1</td>\n",
       "      <td>1499.0</td>\n",
       "      <td>24204.490</td>\n",
       "      <td>22705.490</td>\n",
       "      <td>M</td>\n",
       "      <td>MUMBAI</td>\n",
       "    </tr>\n",
       "    <tr>\n",
       "      <th>C1010014</th>\n",
       "      <td>2</td>\n",
       "      <td>2</td>\n",
       "      <td>727.5</td>\n",
       "      <td>100112.950</td>\n",
       "      <td>99385.450</td>\n",
       "      <td>M</td>\n",
       "      <td>MUMBAI</td>\n",
       "    </tr>\n",
       "    <tr>\n",
       "      <th>C1010018</th>\n",
       "      <td>1</td>\n",
       "      <td>1</td>\n",
       "      <td>30.0</td>\n",
       "      <td>496.180</td>\n",
       "      <td>466.180</td>\n",
       "      <td>F</td>\n",
       "      <td>CHAMPARAN</td>\n",
       "    </tr>\n",
       "    <tr>\n",
       "      <th>C1010024</th>\n",
       "      <td>1</td>\n",
       "      <td>1</td>\n",
       "      <td>5000.0</td>\n",
       "      <td>87058.650</td>\n",
       "      <td>82058.650</td>\n",
       "      <td>M</td>\n",
       "      <td>KOLKATA</td>\n",
       "    </tr>\n",
       "    <tr>\n",
       "      <th>...</th>\n",
       "      <td>...</td>\n",
       "      <td>...</td>\n",
       "      <td>...</td>\n",
       "      <td>...</td>\n",
       "      <td>...</td>\n",
       "      <td>...</td>\n",
       "      <td>...</td>\n",
       "    </tr>\n",
       "    <tr>\n",
       "      <th>C9099836</th>\n",
       "      <td>1</td>\n",
       "      <td>1</td>\n",
       "      <td>691.0</td>\n",
       "      <td>133067.230</td>\n",
       "      <td>132376.230</td>\n",
       "      <td>M</td>\n",
       "      <td>BHIWANDI</td>\n",
       "    </tr>\n",
       "    <tr>\n",
       "      <th>C9099877</th>\n",
       "      <td>1</td>\n",
       "      <td>1</td>\n",
       "      <td>222.0</td>\n",
       "      <td>96063.460</td>\n",
       "      <td>95841.460</td>\n",
       "      <td>M</td>\n",
       "      <td>BANGALORE</td>\n",
       "    </tr>\n",
       "    <tr>\n",
       "      <th>C9099919</th>\n",
       "      <td>1</td>\n",
       "      <td>1</td>\n",
       "      <td>126.0</td>\n",
       "      <td>5559.750</td>\n",
       "      <td>5433.750</td>\n",
       "      <td>M</td>\n",
       "      <td>GUNTUR</td>\n",
       "    </tr>\n",
       "    <tr>\n",
       "      <th>C9099941</th>\n",
       "      <td>1</td>\n",
       "      <td>1</td>\n",
       "      <td>50.0</td>\n",
       "      <td>35295.920</td>\n",
       "      <td>35245.920</td>\n",
       "      <td>M</td>\n",
       "      <td>CHENNAI</td>\n",
       "    </tr>\n",
       "    <tr>\n",
       "      <th>C9099956</th>\n",
       "      <td>1</td>\n",
       "      <td>1</td>\n",
       "      <td>855.0</td>\n",
       "      <td>6968.930</td>\n",
       "      <td>6113.930</td>\n",
       "      <td>M</td>\n",
       "      <td>MUSSOORIE</td>\n",
       "    </tr>\n",
       "  </tbody>\n",
       "</table>\n",
       "<p>839081 rows × 7 columns</p>\n",
       "</div>"
      ],
      "text/plain": [
       "            Num_of_Transaction  Balance>100_USD  Average_Amount  \\\n",
       "CustomerID                                                        \n",
       "C1010011                     2                2          2553.0   \n",
       "C1010012                     1                1          1499.0   \n",
       "C1010014                     2                2           727.5   \n",
       "C1010018                     1                1            30.0   \n",
       "C1010024                     1                1          5000.0   \n",
       "...                        ...              ...             ...   \n",
       "C9099836                     1                1           691.0   \n",
       "C9099877                     1                1           222.0   \n",
       "C9099919                     1                1           126.0   \n",
       "C9099941                     1                1            50.0   \n",
       "C9099956                     1                1           855.0   \n",
       "\n",
       "            Average_Balance  Utilisation gender Most_Frequent_Location  \n",
       "CustomerID                                                              \n",
       "C1010011          76340.635    73787.635      M                  NOIDA  \n",
       "C1010012          24204.490    22705.490      M                 MUMBAI  \n",
       "C1010014         100112.950    99385.450      M                 MUMBAI  \n",
       "C1010018            496.180      466.180      F              CHAMPARAN  \n",
       "C1010024          87058.650    82058.650      M                KOLKATA  \n",
       "...                     ...          ...    ...                    ...  \n",
       "C9099836         133067.230   132376.230      M               BHIWANDI  \n",
       "C9099877          96063.460    95841.460      M              BANGALORE  \n",
       "C9099919           5559.750     5433.750      M                 GUNTUR  \n",
       "C9099941          35295.920    35245.920      M                CHENNAI  \n",
       "C9099956           6968.930     6113.930      M              MUSSOORIE  \n",
       "\n",
       "[839081 rows x 7 columns]"
      ]
     },
     "execution_count": 37,
     "metadata": {},
     "output_type": "execute_result"
    }
   ],
   "source": [
    "Features"
   ]
  },
  {
   "cell_type": "code",
   "execution_count": null,
   "id": "7f841f29",
   "metadata": {},
   "outputs": [],
   "source": []
  }
 ],
 "metadata": {
  "kernelspec": {
   "display_name": "Python 3 (ipykernel)",
   "language": "python",
   "name": "python3"
  },
  "language_info": {
   "codemirror_mode": {
    "name": "ipython",
    "version": 3
   },
   "file_extension": ".py",
   "mimetype": "text/x-python",
   "name": "python",
   "nbconvert_exporter": "python",
   "pygments_lexer": "ipython3",
   "version": "3.9.12"
  }
 },
 "nbformat": 4,
 "nbformat_minor": 5
}
