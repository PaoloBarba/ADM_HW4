{
 "cells": [
  {
   "cell_type": "markdown",
   "id": "5ee0c8c3",
   "metadata": {},
   "source": [
    "### 2.1 Getting your data + feature engineering"
   ]
  },
  {
   "cell_type": "code",
   "execution_count": 1,
   "id": "56e8419d",
   "metadata": {},
   "outputs": [],
   "source": [
    "import pandas as pd\n",
    "import numpy as np\n",
    "bt=pd.read_csv(\"C:/Users/Gabbo/Desktop/HW4/bank_transactions.csv\")"
   ]
  },
  {
   "cell_type": "code",
   "execution_count": 2,
   "id": "7cc7d5dd",
   "metadata": {},
   "outputs": [],
   "source": [
    "#missing values\n",
    "bt.dropna(inplace=True)"
   ]
  },
  {
   "cell_type": "code",
   "execution_count": 3,
   "id": "77dcbd8c",
   "metadata": {},
   "outputs": [],
   "source": [
    "# convert to timedate\n",
    "bt.CustomerDOB = pd.to_datetime(bt.CustomerDOB)\n",
    "bt.TransactionDate = pd.to_datetime(bt.TransactionDate)"
   ]
  },
  {
   "cell_type": "code",
   "execution_count": 4,
   "id": "d775f293",
   "metadata": {},
   "outputs": [],
   "source": [
    "def zeros(x):\n",
    "    l = len(x)\n",
    "    if l != 6:\n",
    "        x = '0' * (6-l) + x\n",
    "    return x"
   ]
  },
  {
   "cell_type": "code",
   "execution_count": 5,
   "id": "a9dab5a6",
   "metadata": {},
   "outputs": [],
   "source": [
    "bt.TransactionTime = list(map(str,bt.TransactionTime))\n",
    "bt.TransactionTime = list(map(zeros,bt.TransactionTime))\n",
    "bt.TransactionTime = bt.TransactionTime.apply(lambda x: f'{x[:2]}:{x[2:4]}:{x[4:]}')\n",
    "bt.TransactionTime = pd.to_datetime(bt.TransactionTime, format='%H:%M:%S')"
   ]
  },
  {
   "cell_type": "code",
   "execution_count": 6,
   "id": "39a21dbc",
   "metadata": {},
   "outputs": [],
   "source": [
    "bt.loc[bt.CustomerDOB.dt.year > 2000, 'CustomerDOB'] = bt.loc[bt.CustomerDOB.dt.year > 2000, 'CustomerDOB'] - pd.DateOffset(years = 100)\n",
    "bt.drop(bt[bt.CustomerDOB.dt.year == 1800].index, axis=0, inplace=True)"
   ]
  },
  {
   "cell_type": "code",
   "execution_count": 7,
   "id": "d864b803",
   "metadata": {},
   "outputs": [],
   "source": [
    "#calculating customer age\n",
    "bt['CustomerAge'] = (( pd.to_datetime('today') - bt.CustomerDOB ) / np.timedelta64(1, 'Y')).round(0)\n",
    "bt['CustomerAge'] = bt['CustomerAge'].astype(int)"
   ]
  },
  {
   "cell_type": "code",
   "execution_count": 8,
   "id": "cdc626b2",
   "metadata": {},
   "outputs": [],
   "source": [
    "bt['TransactionAmount (INR)'] = bt['TransactionAmount (INR)'].astype(int)\n",
    "bt['Utilisation'] = bt['CustAccountBalance'] - bt['TransactionAmount (INR)']"
   ]
  },
  {
   "cell_type": "code",
   "execution_count": 9,
   "id": "69b4f566",
   "metadata": {},
   "outputs": [],
   "source": [
    "#to save\n",
    "bt.to_pickle(\"C:/Users/Gabbo/Desktop/HW4/bank.pkl\")"
   ]
  },
  {
   "cell_type": "code",
   "execution_count": 13,
   "id": "a11a8f74",
   "metadata": {},
   "outputs": [
    {
     "data": {
      "text/html": [
       "<div>\n",
       "<style scoped>\n",
       "    .dataframe tbody tr th:only-of-type {\n",
       "        vertical-align: middle;\n",
       "    }\n",
       "\n",
       "    .dataframe tbody tr th {\n",
       "        vertical-align: top;\n",
       "    }\n",
       "\n",
       "    .dataframe thead th {\n",
       "        text-align: right;\n",
       "    }\n",
       "</style>\n",
       "<table border=\"1\" class=\"dataframe\">\n",
       "  <thead>\n",
       "    <tr style=\"text-align: right;\">\n",
       "      <th></th>\n",
       "      <th>TransactionID</th>\n",
       "      <th>CustomerID</th>\n",
       "      <th>CustomerDOB</th>\n",
       "      <th>CustGender</th>\n",
       "      <th>CustLocation</th>\n",
       "      <th>CustAccountBalance</th>\n",
       "      <th>TransactionDate</th>\n",
       "      <th>TransactionTime</th>\n",
       "      <th>TransactionAmount (INR)</th>\n",
       "      <th>CustomerAge</th>\n",
       "      <th>Utilisation</th>\n",
       "    </tr>\n",
       "  </thead>\n",
       "  <tbody>\n",
       "    <tr>\n",
       "      <th>0</th>\n",
       "      <td>T1</td>\n",
       "      <td>C5841053</td>\n",
       "      <td>1994-10-01</td>\n",
       "      <td>F</td>\n",
       "      <td>JAMSHEDPUR</td>\n",
       "      <td>17819.05</td>\n",
       "      <td>2016-02-08</td>\n",
       "      <td>1900-01-01 14:32:07</td>\n",
       "      <td>25</td>\n",
       "      <td>28</td>\n",
       "      <td>17794.05</td>\n",
       "    </tr>\n",
       "    <tr>\n",
       "      <th>1</th>\n",
       "      <td>T2</td>\n",
       "      <td>C2142763</td>\n",
       "      <td>1957-04-04</td>\n",
       "      <td>M</td>\n",
       "      <td>JHAJJAR</td>\n",
       "      <td>2270.69</td>\n",
       "      <td>2016-02-08</td>\n",
       "      <td>1900-01-01 14:18:58</td>\n",
       "      <td>27999</td>\n",
       "      <td>66</td>\n",
       "      <td>-25728.31</td>\n",
       "    </tr>\n",
       "    <tr>\n",
       "      <th>2</th>\n",
       "      <td>T3</td>\n",
       "      <td>C4417068</td>\n",
       "      <td>1996-11-26</td>\n",
       "      <td>F</td>\n",
       "      <td>MUMBAI</td>\n",
       "      <td>17874.44</td>\n",
       "      <td>2016-02-08</td>\n",
       "      <td>1900-01-01 14:27:12</td>\n",
       "      <td>459</td>\n",
       "      <td>26</td>\n",
       "      <td>17415.44</td>\n",
       "    </tr>\n",
       "    <tr>\n",
       "      <th>3</th>\n",
       "      <td>T4</td>\n",
       "      <td>C5342380</td>\n",
       "      <td>1973-09-14</td>\n",
       "      <td>F</td>\n",
       "      <td>MUMBAI</td>\n",
       "      <td>866503.21</td>\n",
       "      <td>2016-02-08</td>\n",
       "      <td>1900-01-01 14:27:14</td>\n",
       "      <td>2060</td>\n",
       "      <td>49</td>\n",
       "      <td>864443.21</td>\n",
       "    </tr>\n",
       "    <tr>\n",
       "      <th>4</th>\n",
       "      <td>T5</td>\n",
       "      <td>C9031234</td>\n",
       "      <td>1988-03-24</td>\n",
       "      <td>F</td>\n",
       "      <td>NAVI MUMBAI</td>\n",
       "      <td>6714.43</td>\n",
       "      <td>2016-02-08</td>\n",
       "      <td>1900-01-01 18:11:56</td>\n",
       "      <td>1762</td>\n",
       "      <td>35</td>\n",
       "      <td>4952.43</td>\n",
       "    </tr>\n",
       "    <tr>\n",
       "      <th>...</th>\n",
       "      <td>...</td>\n",
       "      <td>...</td>\n",
       "      <td>...</td>\n",
       "      <td>...</td>\n",
       "      <td>...</td>\n",
       "      <td>...</td>\n",
       "      <td>...</td>\n",
       "      <td>...</td>\n",
       "      <td>...</td>\n",
       "      <td>...</td>\n",
       "      <td>...</td>\n",
       "    </tr>\n",
       "    <tr>\n",
       "      <th>1048562</th>\n",
       "      <td>T1048563</td>\n",
       "      <td>C8020229</td>\n",
       "      <td>1990-08-04</td>\n",
       "      <td>M</td>\n",
       "      <td>NEW DELHI</td>\n",
       "      <td>7635.19</td>\n",
       "      <td>2016-09-18</td>\n",
       "      <td>1900-01-01 18:48:24</td>\n",
       "      <td>799</td>\n",
       "      <td>32</td>\n",
       "      <td>6836.19</td>\n",
       "    </tr>\n",
       "    <tr>\n",
       "      <th>1048563</th>\n",
       "      <td>T1048564</td>\n",
       "      <td>C6459278</td>\n",
       "      <td>1992-02-20</td>\n",
       "      <td>M</td>\n",
       "      <td>NASHIK</td>\n",
       "      <td>27311.42</td>\n",
       "      <td>2016-09-18</td>\n",
       "      <td>1900-01-01 18:37:34</td>\n",
       "      <td>460</td>\n",
       "      <td>31</td>\n",
       "      <td>26851.42</td>\n",
       "    </tr>\n",
       "    <tr>\n",
       "      <th>1048564</th>\n",
       "      <td>T1048565</td>\n",
       "      <td>C6412354</td>\n",
       "      <td>1989-05-18</td>\n",
       "      <td>M</td>\n",
       "      <td>HYDERABAD</td>\n",
       "      <td>221757.06</td>\n",
       "      <td>2016-09-18</td>\n",
       "      <td>1900-01-01 18:33:13</td>\n",
       "      <td>770</td>\n",
       "      <td>34</td>\n",
       "      <td>220987.06</td>\n",
       "    </tr>\n",
       "    <tr>\n",
       "      <th>1048565</th>\n",
       "      <td>T1048566</td>\n",
       "      <td>C6420483</td>\n",
       "      <td>1978-08-30</td>\n",
       "      <td>M</td>\n",
       "      <td>VISAKHAPATNAM</td>\n",
       "      <td>10117.87</td>\n",
       "      <td>2016-09-18</td>\n",
       "      <td>1900-01-01 18:47:06</td>\n",
       "      <td>1000</td>\n",
       "      <td>44</td>\n",
       "      <td>9117.87</td>\n",
       "    </tr>\n",
       "    <tr>\n",
       "      <th>1048566</th>\n",
       "      <td>T1048567</td>\n",
       "      <td>C8337524</td>\n",
       "      <td>1984-05-03</td>\n",
       "      <td>M</td>\n",
       "      <td>PUNE</td>\n",
       "      <td>75734.42</td>\n",
       "      <td>2016-09-18</td>\n",
       "      <td>1900-01-01 18:12:22</td>\n",
       "      <td>1166</td>\n",
       "      <td>39</td>\n",
       "      <td>74568.42</td>\n",
       "    </tr>\n",
       "  </tbody>\n",
       "</table>\n",
       "<p>985322 rows × 11 columns</p>\n",
       "</div>"
      ],
      "text/plain": [
       "        TransactionID CustomerID CustomerDOB CustGender   CustLocation  \\\n",
       "0                  T1   C5841053  1994-10-01          F     JAMSHEDPUR   \n",
       "1                  T2   C2142763  1957-04-04          M        JHAJJAR   \n",
       "2                  T3   C4417068  1996-11-26          F         MUMBAI   \n",
       "3                  T4   C5342380  1973-09-14          F         MUMBAI   \n",
       "4                  T5   C9031234  1988-03-24          F    NAVI MUMBAI   \n",
       "...               ...        ...         ...        ...            ...   \n",
       "1048562      T1048563   C8020229  1990-08-04          M      NEW DELHI   \n",
       "1048563      T1048564   C6459278  1992-02-20          M         NASHIK   \n",
       "1048564      T1048565   C6412354  1989-05-18          M      HYDERABAD   \n",
       "1048565      T1048566   C6420483  1978-08-30          M  VISAKHAPATNAM   \n",
       "1048566      T1048567   C8337524  1984-05-03          M           PUNE   \n",
       "\n",
       "         CustAccountBalance TransactionDate     TransactionTime  \\\n",
       "0                  17819.05      2016-02-08 1900-01-01 14:32:07   \n",
       "1                   2270.69      2016-02-08 1900-01-01 14:18:58   \n",
       "2                  17874.44      2016-02-08 1900-01-01 14:27:12   \n",
       "3                 866503.21      2016-02-08 1900-01-01 14:27:14   \n",
       "4                   6714.43      2016-02-08 1900-01-01 18:11:56   \n",
       "...                     ...             ...                 ...   \n",
       "1048562             7635.19      2016-09-18 1900-01-01 18:48:24   \n",
       "1048563            27311.42      2016-09-18 1900-01-01 18:37:34   \n",
       "1048564           221757.06      2016-09-18 1900-01-01 18:33:13   \n",
       "1048565            10117.87      2016-09-18 1900-01-01 18:47:06   \n",
       "1048566            75734.42      2016-09-18 1900-01-01 18:12:22   \n",
       "\n",
       "         TransactionAmount (INR)  CustomerAge  Utilisation  \n",
       "0                             25           28     17794.05  \n",
       "1                          27999           66    -25728.31  \n",
       "2                            459           26     17415.44  \n",
       "3                           2060           49    864443.21  \n",
       "4                           1762           35      4952.43  \n",
       "...                          ...          ...          ...  \n",
       "1048562                      799           32      6836.19  \n",
       "1048563                      460           31     26851.42  \n",
       "1048564                      770           34    220987.06  \n",
       "1048565                     1000           44      9117.87  \n",
       "1048566                     1166           39     74568.42  \n",
       "\n",
       "[985322 rows x 11 columns]"
      ]
     },
     "execution_count": 13,
     "metadata": {},
     "output_type": "execute_result"
    }
   ],
   "source": [
    "#to load\n",
    "bt = pd.read_pickle(\"C:/Users/Gabbo/Desktop/HW4/bank.pkl\")\n",
    "bt"
   ]
  },
  {
   "cell_type": "code",
   "execution_count": 21,
   "id": "61c0d92a",
   "metadata": {},
   "outputs": [],
   "source": [
    "#definisco il mio df:\n",
    "Features = pd.DataFrame(data=None, index=None, columns=None, dtype=None, copy=False)"
   ]
  },
  {
   "cell_type": "code",
   "execution_count": 23,
   "id": "31a9583b",
   "metadata": {},
   "outputs": [],
   "source": [
    "#1\n",
    "#num of transaction: \n",
    "Features[\"Num_of_Transaction\"] = bt[[\"CustomerID\",\"TransactionID\"]].groupby(\"CustomerID\").count().sort_values(by=\"TransactionID\",ascending=False)"
   ]
  },
  {
   "cell_type": "code",
   "execution_count": 27,
   "id": "52f185b3",
   "metadata": {},
   "outputs": [],
   "source": [
    "#2\n",
    "#Transaction con balance > 100:\n",
    "Features[\"Balance>100_USD\"] = bt[[\"CustomerID\",\"CustAccountBalance\"]].groupby(\"CustomerID\")[\"CustAccountBalance\"].apply(lambda x: (x>100).sum())"
   ]
  },
  {
   "cell_type": "code",
   "execution_count": 28,
   "id": "49fa3428",
   "metadata": {},
   "outputs": [],
   "source": [
    "#3\n",
    "#Average Amount of the transactions:\n",
    "Features[\"Average_Amount\"] = bt[[\"CustomerID\",\"TransactionAmount (INR)\"]].groupby(\"CustomerID\").agg(Average_Amount=(\"TransactionAmount (INR)\",np.mean))"
   ]
  },
  {
   "cell_type": "code",
   "execution_count": 30,
   "id": "3bea6827",
   "metadata": {},
   "outputs": [],
   "source": [
    "#4\n",
    "#Average Balance:\n",
    "Features[\"Average_Balance\"] = bt[[\"CustomerID\",\"CustAccountBalance\"]].groupby(\"CustomerID\").agg(Average_Balance=(\"CustAccountBalance\",np.mean))"
   ]
  },
  {
   "cell_type": "code",
   "execution_count": 75,
   "id": "5b3b8475",
   "metadata": {},
   "outputs": [],
   "source": [
    "#5\n",
    "#Utilisation = Average difference between the balance and the transaction amount:\n",
    "pd.options.mode.chained_assignment = None      #Avoid the red banner\n",
    "bt[\"Utilisation\"] = bt[\"CustAccountBalance\"]-bt[\"TransactionAmount (INR)\"]  #create \"Utilisation\" column\n",
    "Features[\"Utilisation\"] = bt[[\"CustomerID\",\"Utilisation\"]].groupby(\"CustomerID\").agg(Utilisation=(\"Utilisation\",np.mean))  #calculate the mean  "
   ]
  },
  {
   "cell_type": "code",
   "execution_count": 77,
   "id": "49427e93",
   "metadata": {
    "scrolled": true
   },
   "outputs": [],
   "source": [
    "#6\n",
    "#Gender of the customer:  #ioannis ha spiegato cosi ma in realtà è sbagliato perche molti utenti hanno sia M che F(travelli)\n",
    "Features[\"gender\"]=bt[[\"CustomerID\",\"CustGender\"]].groupby(\"CustomerID\").last()"
   ]
  },
  {
   "cell_type": "code",
   "execution_count": 79,
   "id": "6a12a98f",
   "metadata": {},
   "outputs": [],
   "source": [
    "#7\n",
    "#Most frequent location of the customer\n",
    "Features[\"Most_Frequent_Location\"] = bt[[\"CustomerID\",\"CustLocation\"]].groupby(\"CustomerID\").agg(pd.Series.mode)"
   ]
  },
  {
   "cell_type": "code",
   "execution_count": null,
   "id": "19134ca2",
   "metadata": {},
   "outputs": [],
   "source": [
    "Features"
   ]
  }
 ],
 "metadata": {
  "kernelspec": {
   "display_name": "Python 3 (ipykernel)",
   "language": "python",
   "name": "python3"
  },
  "language_info": {
   "codemirror_mode": {
    "name": "ipython",
    "version": 3
   },
   "file_extension": ".py",
   "mimetype": "text/x-python",
   "name": "python",
   "nbconvert_exporter": "python",
   "pygments_lexer": "ipython3",
   "version": "3.9.13"
  }
 },
 "nbformat": 4,
 "nbformat_minor": 5
}
